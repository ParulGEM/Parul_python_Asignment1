{
 "cells": [
  {
   "cell_type": "markdown",
   "id": "66922f14",
   "metadata": {},
   "source": [
    "#Python training assignment"
   ]
  },
  {
   "cell_type": "code",
   "execution_count": 28,
   "id": "28ebd312",
   "metadata": {},
   "outputs": [
    {
     "name": "stdout",
     "output_type": "stream",
     "text": [
      "Enter a hyphen separated text: green-red-yellow-black-white\n",
      "After sorting:  black-green-red-white-yellow\n"
     ]
    }
   ],
   "source": [
    "#Q1 Write a Python program that accepts a hyphen-separated sequence of words as input and prints the words in a hyphen-separated sequence after sorting them alphabetically.\n",
    "\n",
    "sentence=[i for i in input(\"Enter a hyphen separated text: \").split('-')]\n",
    "sentence.sort()\n",
    "print(\"After sorting: \",'-'.join(sentence))"
   ]
  },
  {
   "cell_type": "code",
   "execution_count": 25,
   "id": "a4bf8640",
   "metadata": {},
   "outputs": [
    {
     "name": "stdout",
     "output_type": "stream",
     "text": [
      "first number44\n",
      "second number55\n",
      "2420\n",
      "0.8\n"
     ]
    }
   ],
   "source": [
    "#Write a Python program to access a function inside a function.\n",
    "def multiple():\n",
    "    x=int(input(\"first number\"))\n",
    "    y=int(input(\"second number\"))\n",
    "    mul(x,y)\n",
    "    div(x,y)\n",
    "def mul(x,y):\n",
    "    print(x*y)\n",
    "def div(x,y):\n",
    "    print(x/y)\n",
    "multiple()"
   ]
  },
  {
   "cell_type": "code",
   "execution_count": 18,
   "id": "f3619cc3",
   "metadata": {},
   "outputs": [
    {
     "name": "stdout",
     "output_type": "stream",
     "text": [
      "inimeg ta eeniart lacinhcet a si luraP\n"
     ]
    }
   ],
   "source": [
    "#Write a Python program to reverse a string.\n",
    "str=\"Parul is a technical trainee at gemini\"\n",
    "print(str[::-1])"
   ]
  },
  {
   "cell_type": "code",
   "execution_count": 32,
   "id": "7a07fac6",
   "metadata": {},
   "outputs": [
    {
     "name": "stdout",
     "output_type": "stream",
     "text": [
      "1\n"
     ]
    }
   ],
   "source": [
    "#Write a Python program to find the first duplicate element in a given array of integers.\n",
    "def fun(arr):\n",
    "    for i in range(len(arr)):\n",
    "        for j in range(i+1,len(arr)):\n",
    "            if(arr[i]==arr[j]):\n",
    "                return arr[j]\n",
    "    return -1\n",
    "arr=[1,2,3,1,3,2,5,7,7,5,7]\n",
    "print(fun(arr))        "
   ]
  },
  {
   "cell_type": "code",
   "execution_count": 33,
   "id": "d6cb5f80",
   "metadata": {},
   "outputs": [
    {
     "name": "stdout",
     "output_type": "stream",
     "text": [
      "2\n"
     ]
    }
   ],
   "source": [
    "#Write a Python program to get the number of occurrences of a specified element in an array. \n",
    "arr=[1,3,4,2,5,7,8,2,1,3]\n",
    "print(arr.count(3))"
   ]
  },
  {
   "cell_type": "code",
   "execution_count": 37,
   "id": "f4a82726",
   "metadata": {},
   "outputs": [
    {
     "name": "stdout",
     "output_type": "stream",
     "text": [
      "Enter radius: 5\n",
      "Volume of sphere is  523.3333333333334\n"
     ]
    }
   ],
   "source": [
    "#Write a function that computes the volume of a sphere given its radius.\n",
    "r=float(input(\"Enter radius: \"))\n",
    "volume=float(4/3*3.14*r*r*r)\n",
    "print(\"Volume of sphere is \",volume)"
   ]
  },
  {
   "cell_type": "code",
   "execution_count": 39,
   "id": "65a2027d",
   "metadata": {},
   "outputs": [
    {
     "name": "stdout",
     "output_type": "stream",
     "text": [
      "Enter high value 100\n",
      "Enter low value 44\n",
      "Enter a number 77\n",
      "77  is in range.\n"
     ]
    }
   ],
   "source": [
    "#Write a function that checks whether a number is in a given range (Inclusive of high and low)\n",
    "high=int(input(\"Enter high value \"))\n",
    "low=int(input(\"Enter low value \"))\n",
    "a=int(input(\"Enter a number \"))\n",
    "if a in range(low,high+1):\n",
    "    print(a,\" is in range.\")\n",
    "else:\n",
    "    print(a,\" is not in range.\")"
   ]
  },
  {
   "cell_type": "code",
   "execution_count": 44,
   "id": "496121eb",
   "metadata": {},
   "outputs": [
    {
     "name": "stdout",
     "output_type": "stream",
     "text": [
      "Enter a stringParul is in GEMINI\n",
      "UPPER CASE COUNT=  7 AND LOWER CASE COUNT=  44\n"
     ]
    }
   ],
   "source": [
    "#Write a Python function that accepts a string and calculate the number of upper case letters and lower case letters.\n",
    "str=input(\"Enter a string\")\n",
    "up=lo=0\n",
    "for i in str:\n",
    "    if(i.isupper()):\n",
    "        up+=1\n",
    "    elif(i.islower()):\n",
    "        lo+=1\n",
    "print(\"UPPER CASE COUNT= \",up,\"AND LOWER CASE COUNT= \",low)"
   ]
  },
  {
   "cell_type": "code",
   "execution_count": 46,
   "id": "c941afdd",
   "metadata": {},
   "outputs": [
    {
     "name": "stdout",
     "output_type": "stream",
     "text": [
      "Unique list is  [1, 2, 3, 4, 5, 8, 6, 54, 0.2, 79]\n"
     ]
    }
   ],
   "source": [
    "#  Write a Python function that takes a list and returns a new list with unique elements of the first list.\n",
    "def unique_l(l):\n",
    "    ul=[]\n",
    "    for i in l:\n",
    "        if i not in ul:\n",
    "            ul.append(i)\n",
    "    return ul\n",
    "l=[1,2,3,4,5,8,6,3,4,6,4,2,1,4,8,54,.2,3,5,79,4,2]\n",
    "print(\"Unique list is \",unique_l(l))"
   ]
  },
  {
   "cell_type": "code",
   "execution_count": 47,
   "id": "031c225e",
   "metadata": {},
   "outputs": [
    {
     "name": "stdout",
     "output_type": "stream",
     "text": [
      "2010624\n"
     ]
    }
   ],
   "source": [
    "#Write a Python function to multiply all the numbers in a list.**\\n\", \n",
    "def multiply(n):  \n",
    "    pro = 1\n",
    "    for x in n:\n",
    "        pro *= x  \n",
    "    return pro  \n",
    "print(multiply((8, 2, 3, -1, 7,2,4,68,-11)))"
   ]
  },
  {
   "cell_type": "code",
   "execution_count": 61,
   "id": "bff9d585",
   "metadata": {},
   "outputs": [
    {
     "name": "stdout",
     "output_type": "stream",
     "text": [
      "Enter string: level\n",
      "The string is a palindrome.\n"
     ]
    }
   ],
   "source": [
    "#Write a Python function that checks whether a passed string is palindrome or not.\n",
    "def fun(str): \n",
    "    if(str==str[::-1]):\n",
    "        print(\"The string is a palindrome.\")\n",
    "    else:\n",
    "        print(\"The string is not a palindrome.\") \n",
    "str=input(\"Enter string: \") \n",
    "fun(str)"
   ]
  },
  {
   "cell_type": "code",
   "execution_count": 62,
   "id": "83b9463a",
   "metadata": {},
   "outputs": [
    {
     "name": "stdout",
     "output_type": "stream",
     "text": [
      "Yes\n"
     ]
    }
   ],
   "source": [
    "#Write a Python function to check whether a string is pangram or not.\n",
    "\n",
    "def ispangram(str):\n",
    "    alphabet = \"abcdefghijklmnopqrstuvwxyz\"\n",
    "    for char in alphabet:\n",
    "        if char not in str.lower():\n",
    "            return False\n",
    " \n",
    "    return True\n",
    "string = 'the quick brown fox jumps over the lazy dog'\n",
    "if(ispangram(string) == True):\n",
    "    print(\"Yes\")\n",
    "else:\n",
    "    print(\"No\")\n"
   ]
  },
  {
   "cell_type": "code",
   "execution_count": 63,
   "id": "c2947580",
   "metadata": {},
   "outputs": [
    {
     "name": "stdout",
     "output_type": "stream",
     "text": [
      "Twinkle, twinkle, little star, \n",
      "\tHow I wonder what you are! \n",
      "\t\tUp above the world so high, \n",
      "\t\tLike a diamond in the sky. \n",
      "Twinkle, twinkle, little star, \n",
      "\tHow I wonder what you are!\n"
     ]
    }
   ],
   "source": [
    "print(\"Twinkle, twinkle, little star, \\n\\tHow I wonder what you are! \\n\\t\\tUp above the world so high, \\n\\t\\tLike a diamond in the sky. \\nTwinkle, twinkle, little star, \\n\\tHow I wonder what you are!\")\n"
   ]
  },
  {
   "cell_type": "code",
   "execution_count": 1,
   "id": "4d633995",
   "metadata": {},
   "outputs": [
    {
     "name": "stdout",
     "output_type": "stream",
     "text": [
      "Enter the file name abc.java\n",
      "The extention is  java\n"
     ]
    }
   ],
   "source": [
    "#Write a Python program to accept a filename from the user and print the extension of that.\n",
    "f_name=input(\"Enter the file name \")\n",
    "f_ext=f_name.split(\".\")\n",
    "print(\"The extention is \",f_ext[-1])"
   ]
  },
  {
   "cell_type": "code",
   "execution_count": 4,
   "id": "461a17d4",
   "metadata": {},
   "outputs": [
    {
     "name": "stdout",
     "output_type": "stream",
     "text": [
      "Enter the value of n: 5\n",
      "The rexpected vale is :  615\n"
     ]
    }
   ],
   "source": [
    "#Write a Python program that accepts an integer (n) and computes the value of n+nn+nnn\n",
    "n=(input(\"Enter the value of n: \"))\n",
    "print(\"The rexpected vale is : \",int(n)+int(n+n)+int(n+n+n))"
   ]
  },
  {
   "cell_type": "code",
   "execution_count": 8,
   "id": "00435123",
   "metadata": {},
   "outputs": [
    {
     "name": "stdout",
     "output_type": "stream",
     "text": [
      "True\n",
      "False\n"
     ]
    }
   ],
   "source": [
    "#Write a Python program to check whether a specified value is contained in a group of values. \n",
    "def func(group, n):\n",
    "   for value in group:\n",
    "       if n == value:\n",
    "           return True\n",
    "   return False\n",
    "print(func([1, 5, 8, 3], 3))\n",
    "print(func([5, 8, 3], -1))"
   ]
  },
  {
   "cell_type": "code",
   "execution_count": 17,
   "id": "b65fde13",
   "metadata": {},
   "outputs": [
    {
     "name": "stdout",
     "output_type": "stream",
     "text": [
      "Enter the no of elements: 5\n",
      "Enter elements of list: \n",
      "222\n",
      "22\n",
      "1234\n",
      "237\n",
      "233\n",
      "Expected output: \n",
      "[22, 222]\n"
     ]
    }
   ],
   "source": [
    "#Write a Python program to print all even numbers from a given numbers list in the same order and stop the printing if any numbers that come after 237 in the sequence.\n",
    "lst=[]\n",
    "ans=[]\n",
    "l=int(input(\"Enter the no of elements: \"))\n",
    "print(\"Enter elements of list: \")\n",
    "for i in range(0, l):\n",
    "    l=int(input())\n",
    "    lst.append(l)\n",
    "lst.sort()\n",
    "print(\"Expected output: \")\n",
    "for j in lst:\n",
    "    if j>=237:\n",
    "        break\n",
    "    elif j%2==0:\n",
    "        ans.append(j)\n",
    "print(ans)"
   ]
  },
  {
   "cell_type": "code",
   "execution_count": 21,
   "id": "bf8cc24f",
   "metadata": {},
   "outputs": [
    {
     "name": "stdout",
     "output_type": "stream",
     "text": [
      "Enter first value: 2\n",
      "Enter second value: 3\n",
      "True\n"
     ]
    }
   ],
   "source": [
    "#Write a Python program that will return true if the two given integer values are equal or their sum or difference is 5.\n",
    "a=int(input(\"Enter first value: \"))\n",
    "b=int(input(\"Enter second value: \"))\n",
    "if(a==b or (a+b)==5 or (a-b)==5 ):\n",
    "    print(True)\n",
    "else:\n",
    "    print(False)"
   ]
  },
  {
   "cell_type": "code",
   "execution_count": 25,
   "id": "c2d212fb",
   "metadata": {},
   "outputs": [
    {
     "name": "stdout",
     "output_type": "stream",
     "text": [
      "Enter name: Parul\n",
      "Enter age: 22\n",
      "Enter address: Bareilly, Uttar Pradesh\n",
      "Name:  Parul\n",
      "Age:  22\n",
      "Address:  Bareilly, Uttar Pradesh\n"
     ]
    }
   ],
   "source": [
    "#Write a Python program to display your details like name, age, address in three different lines.\n",
    "name=input(\"Enter name: \")\n",
    "age=int(input(\"Enter age: \"))\n",
    "address=input(\"Enter address: \")\n",
    "print(\"Name: \",name)\n",
    "print(\"Age: \",age)\n",
    "print(\"Address: \",address)"
   ]
  },
  {
   "cell_type": "code",
   "execution_count": 26,
   "id": "880fc9ba",
   "metadata": {},
   "outputs": [
    {
     "name": "stdout",
     "output_type": "stream",
     "text": [
      "Enter first value: 2\n",
      "Enter second value: 3\n",
      "25\n"
     ]
    }
   ],
   "source": [
    "#Write a Python program to solve (x + y) * (x + y).\n",
    "x=int(input(\"Enter first value: \"))\n",
    "y=int(input(\"Enter second value: \"))\n",
    "print((x + y) * (x + y))"
   ]
  },
  {
   "cell_type": "code",
   "execution_count": 28,
   "id": "93fe9f6d",
   "metadata": {},
   "outputs": [
    {
     "name": "stdout",
     "output_type": "stream",
     "text": [
      "Original elements:\n",
      "{'Red', 'Black', 'White'}\n",
      "{'Green', 'Red'}\n",
      "set containing all the colors from color_list_1 which are not present in color_list_2. \n",
      "{'Black', 'White'}\n"
     ]
    }
   ],
   "source": [
    "#Write a Python program to print out a set containing all the colors from color_list_1 which are not present in color_list_2. \n",
    "color_list_1 = set([\"White\", \"Black\", \"Red\"])\n",
    "color_list_2 = set([\"Red\", \"Green\"])\n",
    "print(\"Original elements:\")\n",
    "print(color_list_1)\n",
    "print(color_list_2)\n",
    "print(\"set containing all the colors from color_list_1 which are not present in color_list_2. \")\n",
    "print(color_list_1.difference(color_list_2))\n"
   ]
  },
  {
   "cell_type": "code",
   "execution_count": null,
   "id": "cf400fe7",
   "metadata": {},
   "outputs": [],
   "source": []
  }
 ],
 "metadata": {
  "kernelspec": {
   "display_name": "Python 3 (ipykernel)",
   "language": "python",
   "name": "python3"
  },
  "language_info": {
   "codemirror_mode": {
    "name": "ipython",
    "version": 3
   },
   "file_extension": ".py",
   "mimetype": "text/x-python",
   "name": "python",
   "nbconvert_exporter": "python",
   "pygments_lexer": "ipython3",
   "version": "3.9.13"
  }
 },
 "nbformat": 4,
 "nbformat_minor": 5
}
